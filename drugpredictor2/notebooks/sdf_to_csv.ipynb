{
 "cells": [
  {
   "cell_type": "code",
   "execution_count": 91,
   "id": "86b71701",
   "metadata": {},
   "outputs": [],
   "source": [
    "import gzip\n",
    "import os\n",
    "import pandas as pd\n",
    "from rdkit import Chem\n",
    "from rdkit.Chem import Descriptors"
   ]
  },
  {
   "cell_type": "code",
   "execution_count": 92,
   "id": "50d98ee1",
   "metadata": {},
   "outputs": [],
   "source": [
    "path_sdf = os.path.join('..','data','01_raw','sdf_files')\n",
    "filename_sdf = 'Compound_001000004_001000006.sdf.gz'"
   ]
  },
  {
   "cell_type": "code",
   "execution_count": 93,
   "id": "8ca2f7ba",
   "metadata": {},
   "outputs": [],
   "source": [
    "path_csv = os.path.join('..','data','01_raw')\n",
    "filename_csv = 'Compound_001000004_001000006.csv'"
   ]
  },
  {
   "cell_type": "code",
   "execution_count": 94,
   "id": "f355c977",
   "metadata": {},
   "outputs": [],
   "source": [
    "sdf_file = os.path.join(path_sdf, filename_sdf)"
   ]
  },
  {
   "cell_type": "code",
   "execution_count": 95,
   "id": "d9b2ae84",
   "metadata": {},
   "outputs": [],
   "source": [
    "try:\n",
    "    with gzip.open(sdf_file, 'rb') as gz:\n",
    "        supplier = Chem.ForwardSDMolSupplier(gz)\n",
    "        data = []\n",
    "        for i, mol in enumerate(supplier):\n",
    "            if mol is None:\n",
    "                print(f\"Warning: Skipping invalid molecule in at index {i}\")\n",
    "                continue\n",
    "            try:\n",
    "                data.append({\n",
    "                    \"SMILES\": Chem.MolToSmiles(mol),\n",
    "                    \"Molecular Weight\": Descriptors.MolWt(mol),\n",
    "                    \"H-Bond Donors\": Chem.Lipinski.NumHDonors(mol),\n",
    "                    \"H-Bond Acceptors\": Chem.Lipinski.NumHAcceptors(mol),\n",
    "                    \"LogP\": Descriptors.MolLogP(mol),\n",
    "                })\n",
    "            except Exception as e:\n",
    "                print(f\"Error processing molecule {i+1}: {e}\")\n",
    "\n",
    "        df = pd.DataFrame(data)\n",
    "except Exception as e:\n",
    "    print(f\"Error processing file: {e}\")"
   ]
  },
  {
   "cell_type": "code",
   "execution_count": 96,
   "id": "afdd7eb7",
   "metadata": {},
   "outputs": [
    {
     "data": {
      "text/html": [
       "<div>\n",
       "<style scoped>\n",
       "    .dataframe tbody tr th:only-of-type {\n",
       "        vertical-align: middle;\n",
       "    }\n",
       "\n",
       "    .dataframe tbody tr th {\n",
       "        vertical-align: top;\n",
       "    }\n",
       "\n",
       "    .dataframe thead th {\n",
       "        text-align: right;\n",
       "    }\n",
       "</style>\n",
       "<table border=\"1\" class=\"dataframe\">\n",
       "  <thead>\n",
       "    <tr style=\"text-align: right;\">\n",
       "      <th></th>\n",
       "      <th>SMILES</th>\n",
       "      <th>Molecular Weight</th>\n",
       "      <th>H-Bond Donors</th>\n",
       "      <th>H-Bond Acceptors</th>\n",
       "      <th>LogP</th>\n",
       "    </tr>\n",
       "  </thead>\n",
       "  <tbody>\n",
       "    <tr>\n",
       "      <th>0</th>\n",
       "      <td>Cc1ccc(S(=O)(=O)N(CC(=O)Nc2ccc3c(c2)OCO3)c2ccc...</td>\n",
       "      <td>452.532</td>\n",
       "      <td>1</td>\n",
       "      <td>5</td>\n",
       "      <td>4.17456</td>\n",
       "    </tr>\n",
       "    <tr>\n",
       "      <th>1</th>\n",
       "      <td>COc1cc(C=NNC(=O)c2cccc(C)c2)ccc1OCC(=O)Nc1ccccc1</td>\n",
       "      <td>417.465</td>\n",
       "      <td>2</td>\n",
       "      <td>5</td>\n",
       "      <td>3.78502</td>\n",
       "    </tr>\n",
       "    <tr>\n",
       "      <th>2</th>\n",
       "      <td>COc1ccc(N(CC(=O)NCc2ccco2)S(=O)(=O)c2ccc(C)cc2...</td>\n",
       "      <td>448.928</td>\n",
       "      <td>1</td>\n",
       "      <td>5</td>\n",
       "      <td>3.76172</td>\n",
       "    </tr>\n",
       "  </tbody>\n",
       "</table>\n",
       "</div>"
      ],
      "text/plain": [
       "                                              SMILES  Molecular Weight   \n",
       "0  Cc1ccc(S(=O)(=O)N(CC(=O)Nc2ccc3c(c2)OCO3)c2ccc...           452.532  \\\n",
       "1   COc1cc(C=NNC(=O)c2cccc(C)c2)ccc1OCC(=O)Nc1ccccc1           417.465   \n",
       "2  COc1ccc(N(CC(=O)NCc2ccco2)S(=O)(=O)c2ccc(C)cc2...           448.928   \n",
       "\n",
       "   H-Bond Donors  H-Bond Acceptors     LogP  \n",
       "0              1                 5  4.17456  \n",
       "1              2                 5  3.78502  \n",
       "2              1                 5  3.76172  "
      ]
     },
     "execution_count": 96,
     "metadata": {},
     "output_type": "execute_result"
    }
   ],
   "source": [
    "df.head()"
   ]
  },
  {
   "cell_type": "code",
   "execution_count": 97,
   "id": "fed97d98",
   "metadata": {},
   "outputs": [],
   "source": [
    "df.to_csv(os.path.join(path_csv, filename_csv), index=False)"
   ]
  }
 ],
 "metadata": {
  "kernelspec": {
   "display_name": "kedro-rebuild",
   "language": "python",
   "name": "python3"
  },
  "language_info": {
   "codemirror_mode": {
    "name": "ipython",
    "version": 3
   },
   "file_extension": ".py",
   "mimetype": "text/x-python",
   "name": "python",
   "nbconvert_exporter": "python",
   "pygments_lexer": "ipython3",
   "version": "3.10.12"
  }
 },
 "nbformat": 4,
 "nbformat_minor": 5
}

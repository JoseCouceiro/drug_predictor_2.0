{
 "cells": [
  {
   "cell_type": "code",
   "execution_count": 8,
   "id": "86b71701",
   "metadata": {},
   "outputs": [],
   "source": [
    "import gzip\n",
    "import os\n",
    "import pandas as pd\n",
    "from rdkit import Chem\n",
    "from rdkit.Chem import Descriptors"
   ]
  },
  {
   "cell_type": "code",
   "execution_count": 62,
   "id": "50d98ee1",
   "metadata": {},
   "outputs": [],
   "source": [
    "path_sdf = os.path.join('..','data','01_raw','sdf_files')\n",
    "filename_sdf = 'Compound_001000001_001500000.sdf.gz'\n",
    "last_index = 110000"
   ]
  },
  {
   "cell_type": "code",
   "execution_count": 63,
   "id": "8ca2f7ba",
   "metadata": {},
   "outputs": [],
   "source": [
    "path_csv = os.path.join('..','data','01_raw','csv_files')"
   ]
  },
  {
   "cell_type": "code",
   "execution_count": 64,
   "id": "f355c977",
   "metadata": {},
   "outputs": [],
   "source": [
    "sdf_file = os.path.join(path_sdf, filename_sdf)"
   ]
  },
  {
   "cell_type": "code",
   "execution_count": null,
   "id": "d9b2ae84",
   "metadata": {},
   "outputs": [],
   "source": [
    "try:\n",
    "    with gzip.open(sdf_file, 'rb') as gz:\n",
    "        supplier = Chem.ForwardSDMolSupplier(gz)\n",
    "        data = []\n",
    "        for i, mol in enumerate(supplier):\n",
    "            if mol is None:\n",
    "                print(f\"Warning: Skipping invalid molecule in at index {i}\")\n",
    "                continue\n",
    "            try:\n",
    "                data.append({\n",
    "                    \"SMILES\": Chem.MolToSmiles(mol),\n",
    "                    \"Molecular Weight\": Descriptors.MolWt(mol),\n",
    "                    \"H-Bond Donors\": Chem.Lipinski.NumHDonors(mol),\n",
    "                    \"H-Bond Acceptors\": Chem.Lipinski.NumHAcceptors(mol),\n",
    "                    \"LogP\": Descriptors.MolLogP(mol),\n",
    "                })\n",
    "            except Exception as e:\n",
    "                print(f\"Error processing molecule {i+1}: {e}\")\n",
    "\n",
    "        df = pd.DataFrame(data)\n",
    "except Exception as e:\n",
    "    print(f\"Error processing file: {e}\")"
   ]
  },
  {
   "cell_type": "code",
   "execution_count": null,
   "id": "c9faf719",
   "metadata": {},
   "outputs": [],
   "source": [
    "import numpy as np"
   ]
  },
  {
   "cell_type": "code",
   "execution_count": null,
   "id": "d058658d",
   "metadata": {},
   "outputs": [],
   "source": [
    "def is_lipinski(x: pd.DataFrame) -> pd.DataFrame:\n",
    "    \"\"\"Applies Lipinski's Rule of Five to a DataFrame of molecular properties.\n",
    "\n",
    "    Calculates whether a molecule adheres to at least three of the four main\n",
    "    Lipinski rules (MW < 500, LogP <= 5, H-Bond Donors <= 5,\n",
    "    H-Bond Acceptors <= 10). Adds a 'RuleFive' column where 1 indicates\n",
    "    compliance (passes >= 3 rules) and 0 indicates failure.\n",
    "\n",
    "    Args:\n",
    "        x: DataFrame containing molecular properties, including 'Molecular Weight',\n",
    "           'LogP', 'H-Bond Donors', and 'H-Bond Acceptors'.\n",
    "\n",
    "    Returns:\n",
    "        The input DataFrame with an added 'RuleFive' integer column.\n",
    "    \"\"\"\n",
    "    # Lipinski rules\n",
    "    hdonor = x['H-Bond Donors'] <= 5\n",
    "    haccept = x['H-Bond Acceptors'] <= 10\n",
    "    mw = x['Molecular Weight'] < 500\n",
    "    clogP = x['LogP'] <= 5\n",
    "    # Apply rules to dataframe\n",
    "    x['RuleFive'] = np.where(((hdonor & haccept & mw) | (hdonor & haccept & clogP) | (hdonor & mw & clogP) | (haccept & mw & clogP)), 1, 0)\n",
    "    return x"
   ]
  },
  {
   "cell_type": "code",
   "execution_count": null,
   "id": "f07116d2",
   "metadata": {},
   "outputs": [],
   "source": [
    "df= is_lipinski(df)"
   ]
  },
  {
   "cell_type": "code",
   "execution_count": null,
   "id": "ba0011dc",
   "metadata": {},
   "outputs": [
    {
     "data": {
      "text/html": [
       "<div>\n",
       "<style scoped>\n",
       "    .dataframe tbody tr th:only-of-type {\n",
       "        vertical-align: middle;\n",
       "    }\n",
       "\n",
       "    .dataframe tbody tr th {\n",
       "        vertical-align: top;\n",
       "    }\n",
       "\n",
       "    .dataframe thead th {\n",
       "        text-align: right;\n",
       "    }\n",
       "</style>\n",
       "<table border=\"1\" class=\"dataframe\">\n",
       "  <thead>\n",
       "    <tr style=\"text-align: right;\">\n",
       "      <th></th>\n",
       "      <th>SMILES</th>\n",
       "      <th>Molecular Weight</th>\n",
       "      <th>H-Bond Donors</th>\n",
       "      <th>H-Bond Acceptors</th>\n",
       "      <th>LogP</th>\n",
       "      <th>RuleFive</th>\n",
       "    </tr>\n",
       "  </thead>\n",
       "  <tbody>\n",
       "    <tr>\n",
       "      <th>0</th>\n",
       "      <td>CN(C)CC1C2C=CC(C2)C1CO</td>\n",
       "      <td>181.279</td>\n",
       "      <td>1</td>\n",
       "      <td>2</td>\n",
       "      <td>0.9786</td>\n",
       "      <td>1</td>\n",
       "    </tr>\n",
       "    <tr>\n",
       "      <th>1</th>\n",
       "      <td>c1ccc(CCC[P+](c2ccccc2)(c2ccccc2)c2ccccc2)cc1</td>\n",
       "      <td>381.479</td>\n",
       "      <td>0</td>\n",
       "      <td>0</td>\n",
       "      <td>5.6133</td>\n",
       "      <td>1</td>\n",
       "    </tr>\n",
       "    <tr>\n",
       "      <th>2</th>\n",
       "      <td>CC(O)C[P+](c1ccccc1)(c1ccccc1)c1ccccc1</td>\n",
       "      <td>321.380</td>\n",
       "      <td>1</td>\n",
       "      <td>1</td>\n",
       "      <td>3.3613</td>\n",
       "      <td>1</td>\n",
       "    </tr>\n",
       "    <tr>\n",
       "      <th>3</th>\n",
       "      <td>C=C(c1ccccc1)[P+](c1ccccc1)(c1ccccc1)c1ccccc1</td>\n",
       "      <td>365.436</td>\n",
       "      <td>0</td>\n",
       "      <td>0</td>\n",
       "      <td>5.6514</td>\n",
       "      <td>1</td>\n",
       "    </tr>\n",
       "    <tr>\n",
       "      <th>4</th>\n",
       "      <td>CC=CC[P+](c1ccccc1)(c1ccccc1)c1ccccc1</td>\n",
       "      <td>317.392</td>\n",
       "      <td>0</td>\n",
       "      <td>0</td>\n",
       "      <td>4.5566</td>\n",
       "      <td>1</td>\n",
       "    </tr>\n",
       "  </tbody>\n",
       "</table>\n",
       "</div>"
      ],
      "text/plain": [
       "                                          SMILES  Molecular Weight   \n",
       "0                         CN(C)CC1C2C=CC(C2)C1CO           181.279  \\\n",
       "1  c1ccc(CCC[P+](c2ccccc2)(c2ccccc2)c2ccccc2)cc1           381.479   \n",
       "2         CC(O)C[P+](c1ccccc1)(c1ccccc1)c1ccccc1           321.380   \n",
       "3  C=C(c1ccccc1)[P+](c1ccccc1)(c1ccccc1)c1ccccc1           365.436   \n",
       "4          CC=CC[P+](c1ccccc1)(c1ccccc1)c1ccccc1           317.392   \n",
       "\n",
       "   H-Bond Donors  H-Bond Acceptors    LogP  RuleFive  \n",
       "0              1                 2  0.9786         1  \n",
       "1              0                 0  5.6133         1  \n",
       "2              1                 1  3.3613         1  \n",
       "3              0                 0  5.6514         1  \n",
       "4              0                 0  4.5566         1  "
      ]
     },
     "execution_count": 50,
     "metadata": {},
     "output_type": "execute_result"
    }
   ],
   "source": [
    "df.head()"
   ]
  },
  {
   "cell_type": "code",
   "execution_count": null,
   "id": "91cdb403",
   "metadata": {},
   "outputs": [
    {
     "data": {
      "text/plain": [
       "RuleFive\n",
       "1    447867\n",
       "0      8340\n",
       "Name: count, dtype: int64"
      ]
     },
     "execution_count": 51,
     "metadata": {},
     "output_type": "execute_result"
    }
   ],
   "source": [
    "df['RuleFive'].value_counts()"
   ]
  },
  {
   "cell_type": "code",
   "execution_count": null,
   "id": "00a45332",
   "metadata": {},
   "outputs": [
    {
     "name": "stdout",
     "output_type": "stream",
     "text": [
      "<class 'pandas.core.frame.DataFrame'>\n",
      "RangeIndex: 456207 entries, 0 to 456206\n",
      "Data columns (total 6 columns):\n",
      " #   Column            Non-Null Count   Dtype  \n",
      "---  ------            --------------   -----  \n",
      " 0   SMILES            456207 non-null  object \n",
      " 1   Molecular Weight  456207 non-null  float64\n",
      " 2   H-Bond Donors     456207 non-null  int64  \n",
      " 3   H-Bond Acceptors  456207 non-null  int64  \n",
      " 4   LogP              456207 non-null  float64\n",
      " 5   RuleFive          456207 non-null  int32  \n",
      "dtypes: float64(2), int32(1), int64(2), object(1)\n",
      "memory usage: 19.1+ MB\n"
     ]
    }
   ],
   "source": [
    "df.info()"
   ]
  },
  {
   "cell_type": "code",
   "execution_count": null,
   "id": "0bc70de2",
   "metadata": {},
   "outputs": [],
   "source": [
    "rulefive_0 = df[df['RuleFive'] == 0]\n",
    "rulefive_1 = df[df['RuleFive'] == 1]\n",
    "rulefive_1_equal = rulefive_1.sample(n=len(rulefive_0), random_state=25)\n",
    "balanced_df = pd.concat([rulefive_1_equal, rulefive_0]).reset_index(drop=True)"
   ]
  },
  {
   "cell_type": "code",
   "execution_count": null,
   "id": "314c965a",
   "metadata": {},
   "outputs": [
    {
     "name": "stdout",
     "output_type": "stream",
     "text": [
      "<class 'pandas.core.frame.DataFrame'>\n",
      "Index: 8340 entries, 10 to 456189\n",
      "Data columns (total 6 columns):\n",
      " #   Column            Non-Null Count  Dtype  \n",
      "---  ------            --------------  -----  \n",
      " 0   SMILES            8340 non-null   object \n",
      " 1   Molecular Weight  8340 non-null   float64\n",
      " 2   H-Bond Donors     8340 non-null   int64  \n",
      " 3   H-Bond Acceptors  8340 non-null   int64  \n",
      " 4   LogP              8340 non-null   float64\n",
      " 5   RuleFive          8340 non-null   int32  \n",
      "dtypes: float64(2), int32(1), int64(2), object(1)\n",
      "memory usage: 423.5+ KB\n"
     ]
    }
   ],
   "source": [
    "rulefive_0.info()"
   ]
  },
  {
   "cell_type": "code",
   "execution_count": null,
   "id": "45482300",
   "metadata": {},
   "outputs": [
    {
     "name": "stdout",
     "output_type": "stream",
     "text": [
      "<class 'pandas.core.frame.DataFrame'>\n",
      "RangeIndex: 16680 entries, 0 to 16679\n",
      "Data columns (total 6 columns):\n",
      " #   Column            Non-Null Count  Dtype  \n",
      "---  ------            --------------  -----  \n",
      " 0   SMILES            16680 non-null  object \n",
      " 1   Molecular Weight  16680 non-null  float64\n",
      " 2   H-Bond Donors     16680 non-null  int64  \n",
      " 3   H-Bond Acceptors  16680 non-null  int64  \n",
      " 4   LogP              16680 non-null  float64\n",
      " 5   RuleFive          16680 non-null  int32  \n",
      "dtypes: float64(2), int32(1), int64(2), object(1)\n",
      "memory usage: 716.8+ KB\n"
     ]
    }
   ],
   "source": [
    "balanced_df.info()"
   ]
  },
  {
   "cell_type": "code",
   "execution_count": null,
   "id": "1fd1488e",
   "metadata": {},
   "outputs": [
    {
     "data": {
      "text/html": [
       "<div>\n",
       "<style scoped>\n",
       "    .dataframe tbody tr th:only-of-type {\n",
       "        vertical-align: middle;\n",
       "    }\n",
       "\n",
       "    .dataframe tbody tr th {\n",
       "        vertical-align: top;\n",
       "    }\n",
       "\n",
       "    .dataframe thead th {\n",
       "        text-align: right;\n",
       "    }\n",
       "</style>\n",
       "<table border=\"1\" class=\"dataframe\">\n",
       "  <thead>\n",
       "    <tr style=\"text-align: right;\">\n",
       "      <th></th>\n",
       "      <th>SMILES</th>\n",
       "      <th>Molecular Weight</th>\n",
       "      <th>H-Bond Donors</th>\n",
       "      <th>H-Bond Acceptors</th>\n",
       "      <th>LogP</th>\n",
       "      <th>RuleFive</th>\n",
       "    </tr>\n",
       "  </thead>\n",
       "  <tbody>\n",
       "  </tbody>\n",
       "</table>\n",
       "</div>"
      ],
      "text/plain": [
       "Empty DataFrame\n",
       "Columns: [SMILES, Molecular Weight, H-Bond Donors, H-Bond Acceptors, LogP, RuleFive]\n",
       "Index: []"
      ]
     },
     "execution_count": 56,
     "metadata": {},
     "output_type": "execute_result"
    }
   ],
   "source": [
    "balanced_df.iloc[42145:42157]"
   ]
  },
  {
   "cell_type": "code",
   "execution_count": null,
   "id": "2815088d",
   "metadata": {},
   "outputs": [
    {
     "data": {
      "text/plain": [
       "RuleFive\n",
       "1    8340\n",
       "0    8340\n",
       "Name: count, dtype: int64"
      ]
     },
     "execution_count": 57,
     "metadata": {},
     "output_type": "execute_result"
    }
   ],
   "source": [
    "balanced_df['RuleFive'].value_counts()"
   ]
  },
  {
   "cell_type": "code",
   "execution_count": null,
   "id": "547db64e",
   "metadata": {},
   "outputs": [],
   "source": [
    "random_balanced_df = balanced_df.sample(frac=1, random_state=25).reset_index(drop=True)"
   ]
  },
  {
   "cell_type": "code",
   "execution_count": null,
   "id": "c3fdfde8",
   "metadata": {},
   "outputs": [
    {
     "data": {
      "text/plain": [
       "RuleFive\n",
       "0    8340\n",
       "1    8340\n",
       "Name: count, dtype: int64"
      ]
     },
     "execution_count": 59,
     "metadata": {},
     "output_type": "execute_result"
    }
   ],
   "source": [
    "random_balanced_df['RuleFive'].value_counts()"
   ]
  },
  {
   "cell_type": "code",
   "execution_count": null,
   "id": "5681c7cc",
   "metadata": {},
   "outputs": [
    {
     "data": {
      "text/html": [
       "<div>\n",
       "<style scoped>\n",
       "    .dataframe tbody tr th:only-of-type {\n",
       "        vertical-align: middle;\n",
       "    }\n",
       "\n",
       "    .dataframe tbody tr th {\n",
       "        vertical-align: top;\n",
       "    }\n",
       "\n",
       "    .dataframe thead th {\n",
       "        text-align: right;\n",
       "    }\n",
       "</style>\n",
       "<table border=\"1\" class=\"dataframe\">\n",
       "  <thead>\n",
       "    <tr style=\"text-align: right;\">\n",
       "      <th></th>\n",
       "      <th>SMILES</th>\n",
       "      <th>Molecular Weight</th>\n",
       "      <th>H-Bond Donors</th>\n",
       "      <th>H-Bond Acceptors</th>\n",
       "      <th>LogP</th>\n",
       "      <th>RuleFive</th>\n",
       "    </tr>\n",
       "  </thead>\n",
       "  <tbody>\n",
       "    <tr>\n",
       "      <th>0</th>\n",
       "      <td>CC(C)C(O[Si](C)(C)C)(C(=O)OCC1=CCN2CCC(O[Si](C...</td>\n",
       "      <td>515.916</td>\n",
       "      <td>0</td>\n",
       "      <td>6</td>\n",
       "      <td>5.25030</td>\n",
       "      <td>0</td>\n",
       "    </tr>\n",
       "    <tr>\n",
       "      <th>1</th>\n",
       "      <td>C=CCN1C(=O)C(O)=C(C(C)=O)[C@@H]1c1ccc(F)cc1</td>\n",
       "      <td>275.279</td>\n",
       "      <td>1</td>\n",
       "      <td>3</td>\n",
       "      <td>2.29610</td>\n",
       "      <td>1</td>\n",
       "    </tr>\n",
       "    <tr>\n",
       "      <th>2</th>\n",
       "      <td>[Cl-].[Cl-].[Cl-].[Co+3].[NH-]CC[NH3+].[NH-]CC...</td>\n",
       "      <td>345.592</td>\n",
       "      <td>3</td>\n",
       "      <td>0</td>\n",
       "      <td>-11.14900</td>\n",
       "      <td>1</td>\n",
       "    </tr>\n",
       "    <tr>\n",
       "      <th>3</th>\n",
       "      <td>BrCCCCCCCCCCCCCCCCCCCCCCCCCCBr</td>\n",
       "      <td>524.510</td>\n",
       "      <td>0</td>\n",
       "      <td>0</td>\n",
       "      <td>11.13860</td>\n",
       "      <td>0</td>\n",
       "    </tr>\n",
       "    <tr>\n",
       "      <th>4</th>\n",
       "      <td>Cc1c(C(=O)NCc2ccncc2)cnc2cc(C(C)(C)C)nn12</td>\n",
       "      <td>323.400</td>\n",
       "      <td>1</td>\n",
       "      <td>5</td>\n",
       "      <td>2.66022</td>\n",
       "      <td>1</td>\n",
       "    </tr>\n",
       "  </tbody>\n",
       "</table>\n",
       "</div>"
      ],
      "text/plain": [
       "                                              SMILES  Molecular Weight   \n",
       "0  CC(C)C(O[Si](C)(C)C)(C(=O)OCC1=CCN2CCC(O[Si](C...           515.916  \\\n",
       "1        C=CCN1C(=O)C(O)=C(C(C)=O)[C@@H]1c1ccc(F)cc1           275.279   \n",
       "2  [Cl-].[Cl-].[Cl-].[Co+3].[NH-]CC[NH3+].[NH-]CC...           345.592   \n",
       "3                     BrCCCCCCCCCCCCCCCCCCCCCCCCCCBr           524.510   \n",
       "4          Cc1c(C(=O)NCc2ccncc2)cnc2cc(C(C)(C)C)nn12           323.400   \n",
       "\n",
       "   H-Bond Donors  H-Bond Acceptors      LogP  RuleFive  \n",
       "0              0                 6   5.25030         0  \n",
       "1              1                 3   2.29610         1  \n",
       "2              3                 0 -11.14900         1  \n",
       "3              0                 0  11.13860         0  \n",
       "4              1                 5   2.66022         1  "
      ]
     },
     "execution_count": 60,
     "metadata": {},
     "output_type": "execute_result"
    }
   ],
   "source": [
    "random_balanced_df.head()"
   ]
  },
  {
   "cell_type": "code",
   "execution_count": null,
   "id": "654c9931",
   "metadata": {},
   "outputs": [],
   "source": [
    "chunk_size = 10000\n",
    "total_rows = len(balanced_df)\n",
    "for i in range(0, total_rows, chunk_size):\n",
    "    chunk = random_balanced_df.iloc[i:i+chunk_size]\n",
    "    chunk_filename = f\"Balanced_{str(last_index+1).zfill(9)}_{str(last_index+chunk_size).zfill(9)}.csv\"\n",
    "    chunk.to_csv(os.path.join(path_csv, chunk_filename), index=False)\n",
    "    last_index += chunk_size\n",
    "print(\"CSV files created successfully.\")"
   ]
  }
 ],
 "metadata": {
  "kernelspec": {
   "display_name": "kedro-rebuild",
   "language": "python",
   "name": "python3"
  },
  "language_info": {
   "codemirror_mode": {
    "name": "ipython",
    "version": 3
   },
   "file_extension": ".py",
   "mimetype": "text/x-python",
   "name": "python",
   "nbconvert_exporter": "python",
   "pygments_lexer": "ipython3",
   "version": "3.10.12"
  }
 },
 "nbformat": 4,
 "nbformat_minor": 5
}

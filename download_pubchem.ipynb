{
 "cells": [
  {
   "cell_type": "code",
   "execution_count": 1,
   "metadata": {},
   "outputs": [],
   "source": [
    "import gzip\n",
    "import os\n",
    "import numpy as np\n",
    "import pandas as pd\n",
    "from rdkit import Chem\n",
    "from rdkit.Chem import PandasTools, Descriptors"
   ]
  },
  {
   "cell_type": "code",
   "execution_count": 14,
   "metadata": {},
   "outputs": [],
   "source": [
    "directory_path = os.path.join('drugpredictor2','data','01_raw','sdf')\n",
    "tracker_path = os.path.join('drugpredictor2', 'data', '01_raw', 'tracker.txt')\n",
    "csv_path = os.path.join('drugpredictor2', 'data','01_raw', 'csv')"
   ]
  },
  {
   "cell_type": "code",
   "execution_count": 15,
   "metadata": {},
   "outputs": [
    {
     "name": "stdout",
     "output_type": "stream",
     "text": [
      "drugpredictor2\\data\\01_raw\\sdf\n"
     ]
    }
   ],
   "source": [
    "print(directory_path)"
   ]
  },
  {
   "cell_type": "code",
   "execution_count": 19,
   "metadata": {},
   "outputs": [],
   "source": [
    "def get_unprocessed_files(directory_path, tracker_path):\n",
    "    #processed_files = set()\n",
    "    if os.path.exists(tracker_path):\n",
    "        with open(tracker_path, 'r') as f:\n",
    "            processed_filenames = f.read().splitlines()\n",
    "            print('processed_filenames: ', processed_filenames)\n",
    "\n",
    "    all_files = [\n",
    "        (file, os.path.join(directory_path, file))\n",
    "        for file in os.listdir(directory_path)\n",
    "        if os.path.isfile(os.path.join(directory_path, file))\n",
    "    ]\n",
    "\n",
    "    return [(file, filepath) for (file, filepath) in all_files if file not in processed_filenames]"
   ]
  },
  {
   "cell_type": "code",
   "execution_count": 20,
   "metadata": {},
   "outputs": [
    {
     "name": "stdout",
     "output_type": "stream",
     "text": [
      "processed_filenames:  ['Compound_000000001_000500000.sdf.gz', 'Compound_000500001_001000000.sdf.gz', 'Compound_001000001_001500000.sdf.gz']\n"
     ]
    }
   ],
   "source": [
    "new_files= get_unprocessed_files(directory_path, tracker_path)"
   ]
  },
  {
   "cell_type": "code",
   "execution_count": 21,
   "metadata": {},
   "outputs": [
    {
     "data": {
      "text/plain": [
       "[('Compound_001000001_001000003.sdf.gz',\n",
       "  'drugpredictor2\\\\data\\\\01_raw\\\\sdf\\\\Compound_001000001_001000003.sdf.gz'),\n",
       " ('Compound_001000004_001000006.sdf.gz',\n",
       "  'drugpredictor2\\\\data\\\\01_raw\\\\sdf\\\\Compound_001000004_001000006.sdf.gz')]"
      ]
     },
     "execution_count": 21,
     "metadata": {},
     "output_type": "execute_result"
    }
   ],
   "source": [
    "new_files"
   ]
  },
  {
   "cell_type": "code",
   "execution_count": 22,
   "metadata": {},
   "outputs": [
    {
     "data": {
      "text/plain": [
       "'Compound_001000001_001000003'"
      ]
     },
     "execution_count": 22,
     "metadata": {},
     "output_type": "execute_result"
    }
   ],
   "source": [
    "filename_for_csv = new_files[0][0].split('.')[0]\n",
    "filename_for_csv"
   ]
  },
  {
   "cell_type": "markdown",
   "metadata": {},
   "source": [
    "problema, está pensado para añadir de uno en uno, hay que ir guardando los dataframes en una lista"
   ]
  },
  {
   "cell_type": "code",
   "execution_count": 23,
   "metadata": {},
   "outputs": [],
   "source": [
    "def process_inputs(directory_path, tracker_path):\n",
    "    new_files = get_unprocessed_files(directory_path, tracker_path)\n",
    "    # Update the tracker with processed files\n",
    "    with open(tracker_path, 'a') as f:\n",
    "        for (filename, filepath) in new_files:\n",
    "            f.write(\"\\n\"+filename)\n",
    "    df_list = []\n",
    "    for filename, file_path in new_files:\n",
    "        print(f'reading {filename}')\n",
    "        # Open the gzipped SDF file\n",
    "        try:\n",
    "            with gzip.open(file_path, 'rb') as gz:\n",
    "                supplier = Chem.ForwardSDMolSupplier(gz)\n",
    "                \n",
    "                # Initialize a list to store data\n",
    "                data = []\n",
    "\n",
    "                # Iterate over each molecule in the file\n",
    "                n = 1\n",
    "                for mol in supplier:\n",
    "                    print(n)\n",
    "                    n += 1\n",
    "                    if mol is None:\n",
    "                        continue\n",
    "                    \n",
    "                    try:\n",
    "                        # Access molecule properties\n",
    "                        properties = mol.GetPropsAsDict()\n",
    "                        \n",
    "                        # Example: Add a specific property, add more as needed\n",
    "                        data.append({\n",
    "                            \"SMILES\": Chem.MolToSmiles(mol),\n",
    "                            \"Molecular Weight\": Descriptors.MolWt(mol),\n",
    "                            \"H-Bond Donors\": Chem.Lipinski.NumHDonors(mol),\n",
    "                            \"H-Bond Acceptors\": Chem.Lipinski.NumHAcceptors(mol),\n",
    "                            \"LogP\": Descriptors.MolLogP(mol),\n",
    "                        })\n",
    "                    except Exception as e:\n",
    "                        print(f\"Error processing molecule: {e}\")\n",
    "\n",
    "                # Create a DataFrame from the list of dictionaries\n",
    "                df = pd.DataFrame(data)\n",
    "                df_list.append(df)\n",
    "\n",
    "        except Exception as e:\n",
    "            print(f\"Error reading the SDF file: {e}\")\n",
    "    \n",
    "    return df_list\n",
    "\n",
    "    \n"
   ]
  },
  {
   "cell_type": "code",
   "execution_count": 24,
   "metadata": {},
   "outputs": [
    {
     "name": "stdout",
     "output_type": "stream",
     "text": [
      "processed_filenames:  ['Compound_000000001_000500000.sdf.gz', 'Compound_000500001_001000000.sdf.gz', 'Compound_001000001_001500000.sdf.gz']\n",
      "reading Compound_001000001_001000003.sdf.gz\n",
      "1\n",
      "2\n",
      "3\n",
      "reading Compound_001000004_001000006.sdf.gz\n",
      "1\n",
      "2\n",
      "3\n"
     ]
    }
   ],
   "source": [
    "df_list = process_inputs(directory_path, tracker_path)"
   ]
  },
  {
   "cell_type": "code",
   "execution_count": 25,
   "metadata": {},
   "outputs": [],
   "source": [
    "def is_lipinski(x: pd.DataFrame) -> pd.DataFrame:\n",
    "    \"\"\"\n",
    "    Function that applies a set of rules (Lipinski rules) to several columns of a pandas dataframe and returns \\\n",
    "          a dataframe with a new column that states if said rules were passed or not.\n",
    "    Input: pandas dataframe.\n",
    "    Output: pandas dataframe.\n",
    "    \"\"\"\n",
    "    # Lipinski rules\n",
    "    hdonor = x['H-Bond Donors'] <= 5\n",
    "    haccept = x['H-Bond Acceptors'] <= 10\n",
    "    mw = x['Molecular Weight'] < 500\n",
    "    clogP = x['LogP'] <= 5\n",
    "    # Apply rules to dataframe\n",
    "    x['RuleFive'] = np.where(((hdonor & haccept & mw) | (hdonor & haccept & clogP) | (hdonor & mw & clogP) | (haccept & mw & clogP)), 1, 0)\n",
    "    return x"
   ]
  },
  {
   "cell_type": "code",
   "execution_count": 26,
   "metadata": {},
   "outputs": [
    {
     "data": {
      "text/html": [
       "<div>\n",
       "<style scoped>\n",
       "    .dataframe tbody tr th:only-of-type {\n",
       "        vertical-align: middle;\n",
       "    }\n",
       "\n",
       "    .dataframe tbody tr th {\n",
       "        vertical-align: top;\n",
       "    }\n",
       "\n",
       "    .dataframe thead th {\n",
       "        text-align: right;\n",
       "    }\n",
       "</style>\n",
       "<table border=\"1\" class=\"dataframe\">\n",
       "  <thead>\n",
       "    <tr style=\"text-align: right;\">\n",
       "      <th></th>\n",
       "      <th>SMILES</th>\n",
       "      <th>Molecular Weight</th>\n",
       "      <th>H-Bond Donors</th>\n",
       "      <th>H-Bond Acceptors</th>\n",
       "      <th>LogP</th>\n",
       "      <th>RuleFive</th>\n",
       "    </tr>\n",
       "  </thead>\n",
       "  <tbody>\n",
       "    <tr>\n",
       "      <th>0</th>\n",
       "      <td>Cc1ccc(Cl)cc1N(CC(=O)N[C@@H]1C[C@@H]2CC[C@H]1C...</td>\n",
       "      <td>432.973</td>\n",
       "      <td>1</td>\n",
       "      <td>3</td>\n",
       "      <td>4.14852</td>\n",
       "      <td>1</td>\n",
       "    </tr>\n",
       "    <tr>\n",
       "      <th>1</th>\n",
       "      <td>CC1(C)C(C(=O)NNC(=O)c2ccc(COc3ccc(I)cc3)cc2)C1...</td>\n",
       "      <td>492.357</td>\n",
       "      <td>2</td>\n",
       "      <td>3</td>\n",
       "      <td>4.31340</td>\n",
       "      <td>1</td>\n",
       "    </tr>\n",
       "    <tr>\n",
       "      <th>2</th>\n",
       "      <td>Cc1ccc(C)c(N(CC(=O)N2CCC(Cc3ccccc3)CC2)S(=O)(=...</td>\n",
       "      <td>476.642</td>\n",
       "      <td>0</td>\n",
       "      <td>3</td>\n",
       "      <td>4.98004</td>\n",
       "      <td>1</td>\n",
       "    </tr>\n",
       "  </tbody>\n",
       "</table>\n",
       "</div>"
      ],
      "text/plain": [
       "                                              SMILES  Molecular Weight   \n",
       "0  Cc1ccc(Cl)cc1N(CC(=O)N[C@@H]1C[C@@H]2CC[C@H]1C...           432.973  \\\n",
       "1  CC1(C)C(C(=O)NNC(=O)c2ccc(COc3ccc(I)cc3)cc2)C1...           492.357   \n",
       "2  Cc1ccc(C)c(N(CC(=O)N2CCC(Cc3ccccc3)CC2)S(=O)(=...           476.642   \n",
       "\n",
       "   H-Bond Donors  H-Bond Acceptors     LogP  RuleFive  \n",
       "0              1                 3  4.14852         1  \n",
       "1              2                 3  4.31340         1  \n",
       "2              0                 3  4.98004         1  "
      ]
     },
     "metadata": {},
     "output_type": "display_data"
    },
    {
     "data": {
      "text/html": [
       "<div>\n",
       "<style scoped>\n",
       "    .dataframe tbody tr th:only-of-type {\n",
       "        vertical-align: middle;\n",
       "    }\n",
       "\n",
       "    .dataframe tbody tr th {\n",
       "        vertical-align: top;\n",
       "    }\n",
       "\n",
       "    .dataframe thead th {\n",
       "        text-align: right;\n",
       "    }\n",
       "</style>\n",
       "<table border=\"1\" class=\"dataframe\">\n",
       "  <thead>\n",
       "    <tr style=\"text-align: right;\">\n",
       "      <th></th>\n",
       "      <th>SMILES</th>\n",
       "      <th>Molecular Weight</th>\n",
       "      <th>H-Bond Donors</th>\n",
       "      <th>H-Bond Acceptors</th>\n",
       "      <th>LogP</th>\n",
       "      <th>RuleFive</th>\n",
       "    </tr>\n",
       "  </thead>\n",
       "  <tbody>\n",
       "    <tr>\n",
       "      <th>0</th>\n",
       "      <td>Cc1ccc(S(=O)(=O)N(CC(=O)Nc2ccc3c(c2)OCO3)c2ccc...</td>\n",
       "      <td>452.532</td>\n",
       "      <td>1</td>\n",
       "      <td>5</td>\n",
       "      <td>4.17456</td>\n",
       "      <td>1</td>\n",
       "    </tr>\n",
       "    <tr>\n",
       "      <th>1</th>\n",
       "      <td>COc1cc(C=NNC(=O)c2cccc(C)c2)ccc1OCC(=O)Nc1ccccc1</td>\n",
       "      <td>417.465</td>\n",
       "      <td>2</td>\n",
       "      <td>5</td>\n",
       "      <td>3.78502</td>\n",
       "      <td>1</td>\n",
       "    </tr>\n",
       "    <tr>\n",
       "      <th>2</th>\n",
       "      <td>COc1ccc(N(CC(=O)NCc2ccco2)S(=O)(=O)c2ccc(C)cc2...</td>\n",
       "      <td>448.928</td>\n",
       "      <td>1</td>\n",
       "      <td>5</td>\n",
       "      <td>3.76172</td>\n",
       "      <td>1</td>\n",
       "    </tr>\n",
       "  </tbody>\n",
       "</table>\n",
       "</div>"
      ],
      "text/plain": [
       "                                              SMILES  Molecular Weight   \n",
       "0  Cc1ccc(S(=O)(=O)N(CC(=O)Nc2ccc3c(c2)OCO3)c2ccc...           452.532  \\\n",
       "1   COc1cc(C=NNC(=O)c2cccc(C)c2)ccc1OCC(=O)Nc1ccccc1           417.465   \n",
       "2  COc1ccc(N(CC(=O)NCc2ccco2)S(=O)(=O)c2ccc(C)cc2...           448.928   \n",
       "\n",
       "   H-Bond Donors  H-Bond Acceptors     LogP  RuleFive  \n",
       "0              1                 5  4.17456         1  \n",
       "1              2                 5  3.78502         1  \n",
       "2              1                 5  3.76172         1  "
      ]
     },
     "metadata": {},
     "output_type": "display_data"
    }
   ],
   "source": [
    "n = 0\n",
    "for df in df_list:\n",
    "    filename_for_csv = new_files[n][0].split('.')[0]\n",
    "    df_lip = is_lipinski(df)\n",
    "    display(df_lip)\n",
    "    df_lip.to_csv(os.path.join(csv_path, filename_for_csv+'.csv'), index=None)\n",
    "    n += 1"
   ]
  }
 ],
 "metadata": {
  "kernelspec": {
   "display_name": "kedro-rebuild",
   "language": "python",
   "name": "python3"
  },
  "language_info": {
   "codemirror_mode": {
    "name": "ipython",
    "version": 3
   },
   "file_extension": ".py",
   "mimetype": "text/x-python",
   "name": "python",
   "nbconvert_exporter": "python",
   "pygments_lexer": "ipython3",
   "version": "3.10.12"
  }
 },
 "nbformat": 4,
 "nbformat_minor": 2
}
